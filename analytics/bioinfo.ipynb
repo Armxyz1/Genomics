{
  "cells": [
    {
      "cell_type": "code",
      "execution_count": null,
      "metadata": {
        "id": "KjqgjSTDSCrO"
      },
      "outputs": [],
      "source": []
    },
    {
      "cell_type": "code",
      "execution_count": 3,
      "metadata": {
        "colab": {
          "base_uri": "https://localhost:8080/"
        },
        "id": "F7y5CW3DUs-U",
        "outputId": "7c689666-46fa-42cb-924f-995b90fff93f"
      },
      "outputs": [
        {
          "output_type": "stream",
          "name": "stdout",
          "text": [
            "Drive already mounted at /content/drive; to attempt to forcibly remount, call drive.mount(\"/content/drive\", force_remount=True).\n"
          ]
        }
      ],
      "source": [
        "from google.colab import drive\n",
        "drive.mount('/content/drive')"
      ]
    },
    {
      "cell_type": "code",
      "source": [
        "import numpy as np\n",
        "import matplotlib.pyplot as plt\n",
        "import pandas as pd"
      ],
      "metadata": {
        "id": "sl7qfnxRlDyV"
      },
      "execution_count": 4,
      "outputs": []
    },
    {
      "cell_type": "code",
      "source": [
        "\n",
        "def load_sequence(file_path):\n",
        "    \"\"\"Loads a sequence from a FASTA file.\"\"\"\n",
        "    with open(file_path, 'r') as file:\n",
        "        next(file)  # Skip header\n",
        "        return ''.join(line.strip() for line in file)\n",
        "\n",
        "def load_bwt(file_path):\n",
        "    \"\"\"Loads the last column of the BWT from file.\"\"\"\n",
        "    with open(file_path, 'r') as file:\n",
        "        return file.read().replace('\\n', '')\n",
        "\n",
        "def load_bwt_map(file_path):\n",
        "    \"\"\"Loads the BWT mapping from file.\"\"\"\n",
        "    with open(file_path, 'r') as file:\n",
        "        return [int(line.strip()) for line in file]\n",
        "\n",
        "#______________________________________________________________\n",
        "reference_sequence = load_sequence('/content/drive/MyDrive/chrX_bwt/chrX.fa')\n",
        "bwt_sequence = load_bwt('/content/drive/MyDrive/chrX_bwt/chrX_last_col.txt')\n",
        "bwt_map = load_bwt_map('/content/drive/MyDrive/chrX_bwt/chrX_map.txt')\n",
        "\n",
        "print(\"Data Loaded Successfully\")\n",
        "print(\"Reference Sequence Length:\", len(reference_sequence))\n",
        "print(\"BWT Sequence Length:\", len(bwt_sequence))\n",
        "print(\"BWT Map Length:\", len(bwt_map))"
      ],
      "metadata": {
        "colab": {
          "base_uri": "https://localhost:8080/"
        },
        "id": "1_0p74axlKv2",
        "outputId": "fb711c24-cf48-4ff1-ce78-36211b557265"
      },
      "execution_count": 5,
      "outputs": [
        {
          "output_type": "stream",
          "name": "stdout",
          "text": [
            "Data Loaded Successfully\n",
            "Reference Sequence Length: 151100560\n",
            "BWT Sequence Length: 151100561\n",
            "BWT Map Length: 151100561\n"
          ]
        }
      ]
    },
    {
      "cell_type": "code",
      "source": [
        "import pandas as pd\n",
        "import numpy as np\n",
        "\n",
        "# Load the data\n",
        "file_path = \"/content/drive/MyDrive/data_list.csv\"\n",
        "data = pd.read_csv(file_path)\n",
        "\n"
      ],
      "metadata": {
        "id": "rRWmbK84Djkp"
      },
      "execution_count": 6,
      "outputs": []
    },
    {
      "cell_type": "code",
      "source": [
        "data.head()"
      ],
      "metadata": {
        "colab": {
          "base_uri": "https://localhost:8080/",
          "height": 206
        },
        "id": "v1Ot9SKfEY9N",
        "outputId": "e8c22e59-f6bd-40c1-9c4d-c5b224cd5fd1"
      },
      "execution_count": 7,
      "outputs": [
        {
          "output_type": "execute_result",
          "data": {
            "text/plain": [
              "  errs     pos      meth string\n",
              "0  Nil     Nil       Nil    Nil\n",
              "1    2  255609  mismatch  40;61\n",
              "2  Nil     Nil       Nil    Nil\n",
              "3    1  445714  mismatch     67\n",
              "4  Nil     Nil       Nil    Nil"
            ],
            "text/html": [
              "\n",
              "  <div id=\"df-cc598b75-87e2-41a5-8531-352b31227ee7\" class=\"colab-df-container\">\n",
              "    <div>\n",
              "<style scoped>\n",
              "    .dataframe tbody tr th:only-of-type {\n",
              "        vertical-align: middle;\n",
              "    }\n",
              "\n",
              "    .dataframe tbody tr th {\n",
              "        vertical-align: top;\n",
              "    }\n",
              "\n",
              "    .dataframe thead th {\n",
              "        text-align: right;\n",
              "    }\n",
              "</style>\n",
              "<table border=\"1\" class=\"dataframe\">\n",
              "  <thead>\n",
              "    <tr style=\"text-align: right;\">\n",
              "      <th></th>\n",
              "      <th>errs</th>\n",
              "      <th>pos</th>\n",
              "      <th>meth</th>\n",
              "      <th>string</th>\n",
              "    </tr>\n",
              "  </thead>\n",
              "  <tbody>\n",
              "    <tr>\n",
              "      <th>0</th>\n",
              "      <td>Nil</td>\n",
              "      <td>Nil</td>\n",
              "      <td>Nil</td>\n",
              "      <td>Nil</td>\n",
              "    </tr>\n",
              "    <tr>\n",
              "      <th>1</th>\n",
              "      <td>2</td>\n",
              "      <td>255609</td>\n",
              "      <td>mismatch</td>\n",
              "      <td>40;61</td>\n",
              "    </tr>\n",
              "    <tr>\n",
              "      <th>2</th>\n",
              "      <td>Nil</td>\n",
              "      <td>Nil</td>\n",
              "      <td>Nil</td>\n",
              "      <td>Nil</td>\n",
              "    </tr>\n",
              "    <tr>\n",
              "      <th>3</th>\n",
              "      <td>1</td>\n",
              "      <td>445714</td>\n",
              "      <td>mismatch</td>\n",
              "      <td>67</td>\n",
              "    </tr>\n",
              "    <tr>\n",
              "      <th>4</th>\n",
              "      <td>Nil</td>\n",
              "      <td>Nil</td>\n",
              "      <td>Nil</td>\n",
              "      <td>Nil</td>\n",
              "    </tr>\n",
              "  </tbody>\n",
              "</table>\n",
              "</div>\n",
              "    <div class=\"colab-df-buttons\">\n",
              "\n",
              "  <div class=\"colab-df-container\">\n",
              "    <button class=\"colab-df-convert\" onclick=\"convertToInteractive('df-cc598b75-87e2-41a5-8531-352b31227ee7')\"\n",
              "            title=\"Convert this dataframe to an interactive table.\"\n",
              "            style=\"display:none;\">\n",
              "\n",
              "  <svg xmlns=\"http://www.w3.org/2000/svg\" height=\"24px\" viewBox=\"0 -960 960 960\">\n",
              "    <path d=\"M120-120v-720h720v720H120Zm60-500h600v-160H180v160Zm220 220h160v-160H400v160Zm0 220h160v-160H400v160ZM180-400h160v-160H180v160Zm440 0h160v-160H620v160ZM180-180h160v-160H180v160Zm440 0h160v-160H620v160Z\"/>\n",
              "  </svg>\n",
              "    </button>\n",
              "\n",
              "  <style>\n",
              "    .colab-df-container {\n",
              "      display:flex;\n",
              "      gap: 12px;\n",
              "    }\n",
              "\n",
              "    .colab-df-convert {\n",
              "      background-color: #E8F0FE;\n",
              "      border: none;\n",
              "      border-radius: 50%;\n",
              "      cursor: pointer;\n",
              "      display: none;\n",
              "      fill: #1967D2;\n",
              "      height: 32px;\n",
              "      padding: 0 0 0 0;\n",
              "      width: 32px;\n",
              "    }\n",
              "\n",
              "    .colab-df-convert:hover {\n",
              "      background-color: #E2EBFA;\n",
              "      box-shadow: 0px 1px 2px rgba(60, 64, 67, 0.3), 0px 1px 3px 1px rgba(60, 64, 67, 0.15);\n",
              "      fill: #174EA6;\n",
              "    }\n",
              "\n",
              "    .colab-df-buttons div {\n",
              "      margin-bottom: 4px;\n",
              "    }\n",
              "\n",
              "    [theme=dark] .colab-df-convert {\n",
              "      background-color: #3B4455;\n",
              "      fill: #D2E3FC;\n",
              "    }\n",
              "\n",
              "    [theme=dark] .colab-df-convert:hover {\n",
              "      background-color: #434B5C;\n",
              "      box-shadow: 0px 1px 3px 1px rgba(0, 0, 0, 0.15);\n",
              "      filter: drop-shadow(0px 1px 2px rgba(0, 0, 0, 0.3));\n",
              "      fill: #FFFFFF;\n",
              "    }\n",
              "  </style>\n",
              "\n",
              "    <script>\n",
              "      const buttonEl =\n",
              "        document.querySelector('#df-cc598b75-87e2-41a5-8531-352b31227ee7 button.colab-df-convert');\n",
              "      buttonEl.style.display =\n",
              "        google.colab.kernel.accessAllowed ? 'block' : 'none';\n",
              "\n",
              "      async function convertToInteractive(key) {\n",
              "        const element = document.querySelector('#df-cc598b75-87e2-41a5-8531-352b31227ee7');\n",
              "        const dataTable =\n",
              "          await google.colab.kernel.invokeFunction('convertToInteractive',\n",
              "                                                    [key], {});\n",
              "        if (!dataTable) return;\n",
              "\n",
              "        const docLinkHtml = 'Like what you see? Visit the ' +\n",
              "          '<a target=\"_blank\" href=https://colab.research.google.com/notebooks/data_table.ipynb>data table notebook</a>'\n",
              "          + ' to learn more about interactive tables.';\n",
              "        element.innerHTML = '';\n",
              "        dataTable['output_type'] = 'display_data';\n",
              "        await google.colab.output.renderOutput(dataTable, element);\n",
              "        const docLink = document.createElement('div');\n",
              "        docLink.innerHTML = docLinkHtml;\n",
              "        element.appendChild(docLink);\n",
              "      }\n",
              "    </script>\n",
              "  </div>\n",
              "\n",
              "\n",
              "<div id=\"df-f58a5f45-a190-4388-b047-79599e3e0a4c\">\n",
              "  <button class=\"colab-df-quickchart\" onclick=\"quickchart('df-f58a5f45-a190-4388-b047-79599e3e0a4c')\"\n",
              "            title=\"Suggest charts\"\n",
              "            style=\"display:none;\">\n",
              "\n",
              "<svg xmlns=\"http://www.w3.org/2000/svg\" height=\"24px\"viewBox=\"0 0 24 24\"\n",
              "     width=\"24px\">\n",
              "    <g>\n",
              "        <path d=\"M19 3H5c-1.1 0-2 .9-2 2v14c0 1.1.9 2 2 2h14c1.1 0 2-.9 2-2V5c0-1.1-.9-2-2-2zM9 17H7v-7h2v7zm4 0h-2V7h2v10zm4 0h-2v-4h2v4z\"/>\n",
              "    </g>\n",
              "</svg>\n",
              "  </button>\n",
              "\n",
              "<style>\n",
              "  .colab-df-quickchart {\n",
              "      --bg-color: #E8F0FE;\n",
              "      --fill-color: #1967D2;\n",
              "      --hover-bg-color: #E2EBFA;\n",
              "      --hover-fill-color: #174EA6;\n",
              "      --disabled-fill-color: #AAA;\n",
              "      --disabled-bg-color: #DDD;\n",
              "  }\n",
              "\n",
              "  [theme=dark] .colab-df-quickchart {\n",
              "      --bg-color: #3B4455;\n",
              "      --fill-color: #D2E3FC;\n",
              "      --hover-bg-color: #434B5C;\n",
              "      --hover-fill-color: #FFFFFF;\n",
              "      --disabled-bg-color: #3B4455;\n",
              "      --disabled-fill-color: #666;\n",
              "  }\n",
              "\n",
              "  .colab-df-quickchart {\n",
              "    background-color: var(--bg-color);\n",
              "    border: none;\n",
              "    border-radius: 50%;\n",
              "    cursor: pointer;\n",
              "    display: none;\n",
              "    fill: var(--fill-color);\n",
              "    height: 32px;\n",
              "    padding: 0;\n",
              "    width: 32px;\n",
              "  }\n",
              "\n",
              "  .colab-df-quickchart:hover {\n",
              "    background-color: var(--hover-bg-color);\n",
              "    box-shadow: 0 1px 2px rgba(60, 64, 67, 0.3), 0 1px 3px 1px rgba(60, 64, 67, 0.15);\n",
              "    fill: var(--button-hover-fill-color);\n",
              "  }\n",
              "\n",
              "  .colab-df-quickchart-complete:disabled,\n",
              "  .colab-df-quickchart-complete:disabled:hover {\n",
              "    background-color: var(--disabled-bg-color);\n",
              "    fill: var(--disabled-fill-color);\n",
              "    box-shadow: none;\n",
              "  }\n",
              "\n",
              "  .colab-df-spinner {\n",
              "    border: 2px solid var(--fill-color);\n",
              "    border-color: transparent;\n",
              "    border-bottom-color: var(--fill-color);\n",
              "    animation:\n",
              "      spin 1s steps(1) infinite;\n",
              "  }\n",
              "\n",
              "  @keyframes spin {\n",
              "    0% {\n",
              "      border-color: transparent;\n",
              "      border-bottom-color: var(--fill-color);\n",
              "      border-left-color: var(--fill-color);\n",
              "    }\n",
              "    20% {\n",
              "      border-color: transparent;\n",
              "      border-left-color: var(--fill-color);\n",
              "      border-top-color: var(--fill-color);\n",
              "    }\n",
              "    30% {\n",
              "      border-color: transparent;\n",
              "      border-left-color: var(--fill-color);\n",
              "      border-top-color: var(--fill-color);\n",
              "      border-right-color: var(--fill-color);\n",
              "    }\n",
              "    40% {\n",
              "      border-color: transparent;\n",
              "      border-right-color: var(--fill-color);\n",
              "      border-top-color: var(--fill-color);\n",
              "    }\n",
              "    60% {\n",
              "      border-color: transparent;\n",
              "      border-right-color: var(--fill-color);\n",
              "    }\n",
              "    80% {\n",
              "      border-color: transparent;\n",
              "      border-right-color: var(--fill-color);\n",
              "      border-bottom-color: var(--fill-color);\n",
              "    }\n",
              "    90% {\n",
              "      border-color: transparent;\n",
              "      border-bottom-color: var(--fill-color);\n",
              "    }\n",
              "  }\n",
              "</style>\n",
              "\n",
              "  <script>\n",
              "    async function quickchart(key) {\n",
              "      const quickchartButtonEl =\n",
              "        document.querySelector('#' + key + ' button');\n",
              "      quickchartButtonEl.disabled = true;  // To prevent multiple clicks.\n",
              "      quickchartButtonEl.classList.add('colab-df-spinner');\n",
              "      try {\n",
              "        const charts = await google.colab.kernel.invokeFunction(\n",
              "            'suggestCharts', [key], {});\n",
              "      } catch (error) {\n",
              "        console.error('Error during call to suggestCharts:', error);\n",
              "      }\n",
              "      quickchartButtonEl.classList.remove('colab-df-spinner');\n",
              "      quickchartButtonEl.classList.add('colab-df-quickchart-complete');\n",
              "    }\n",
              "    (() => {\n",
              "      let quickchartButtonEl =\n",
              "        document.querySelector('#df-f58a5f45-a190-4388-b047-79599e3e0a4c button');\n",
              "      quickchartButtonEl.style.display =\n",
              "        google.colab.kernel.accessAllowed ? 'block' : 'none';\n",
              "    })();\n",
              "  </script>\n",
              "</div>\n",
              "\n",
              "    </div>\n",
              "  </div>\n"
            ],
            "application/vnd.google.colaboratory.intrinsic+json": {
              "type": "dataframe",
              "variable_name": "data"
            }
          },
          "metadata": {},
          "execution_count": 7
        }
      ]
    },
    {
      "cell_type": "code",
      "source": [
        "\n",
        "# Filter out discarded rows (where any of the key columns is `Nil`)\n",
        "filtered_data = data[(data['errs'] != 'Nil') & (data['pos'] != 'Nil') & (data['meth'] != 'Nil')]\n",
        "\n",
        "# Use `.loc` to modify columns safely\n",
        "filtered_data.loc[:, 'errs'] = filtered_data['errs'].astype(int)\n",
        "filtered_data.loc[:, 'pos'] = filtered_data['pos'].astype(int)\n",
        "\n",
        "print(f\"Number of valid entries: {len(filtered_data)}\")"
      ],
      "metadata": {
        "colab": {
          "base_uri": "https://localhost:8080/"
        },
        "id": "Nnt0VxnIEYH6",
        "outputId": "b94a0988-138b-4371-a2ea-53ce2dbe6fa5"
      },
      "execution_count": 8,
      "outputs": [
        {
          "output_type": "stream",
          "name": "stdout",
          "text": [
            "Number of valid entries: 2823573\n"
          ]
        }
      ]
    },
    {
      "cell_type": "code",
      "source": [
        "from tqdm import tqdm\n",
        "import numpy as np\n",
        "\n",
        "# Assuming reference length is known (from chrX.fa)\n",
        "ref_length = len(reference_sequence)\n",
        "coverage = np.zeros(ref_length)\n",
        "\n",
        "# Update coverage array with tqdm progress bar\n",
        "print(\"Updating coverage array...\")\n",
        "for _, row in tqdm(filtered_data.iterrows(), total=len(filtered_data), desc=\"Processing reads\"):\n",
        "    start_pos = row['pos']\n",
        "    method = row['meth']\n",
        "    error_positions = str(row['string']).split(';') if pd.notna(row['string']) else []\n",
        "\n",
        "    # Calculate the end position of the read\n",
        "    if method == 'mismatch':\n",
        "        end_pos = start_pos + 100  # Assuming read length is approximately 100\n",
        "    elif method == 'insdel':\n",
        "        # Calculate end position considering insertion/deletion adjustments\n",
        "        ins_count = len(error_positions) // 2  # First half are insertions, second half are deletions\n",
        "        end_pos = start_pos + 100 + ins_count\n",
        "\n",
        "    # Update coverage from start to end position\n",
        "    coverage[start_pos:end_pos] += 1\n",
        "\n",
        "print(\"Coverage array updated.\")\n"
      ],
      "metadata": {
        "colab": {
          "base_uri": "https://localhost:8080/"
        },
        "id": "crjxumr5Dmov",
        "outputId": "b53b0fc2-8d45-47d4-b827-c819a7fb0e8c"
      },
      "execution_count": null,
      "outputs": [
        {
          "output_type": "stream",
          "name": "stdout",
          "text": [
            "Updating coverage array...\n"
          ]
        },
        {
          "output_type": "stream",
          "name": "stderr",
          "text": [
            "Processing reads:  58%|█████▊    | 1636142/2823573 [02:17<01:26, 13786.72it/s]"
          ]
        }
      ]
    },
    {
      "cell_type": "code",
      "source": [
        "\n",
        "# Calculate mean and standard deviation of coverage\n",
        "mean_coverage = np.mean(coverage)\n",
        "std_coverage = np.std(coverage)\n",
        "threshold = mean_coverage + 1.5 * std_coverage\n",
        "\n",
        "# Identify high-coverage regions (potential exons) with progress bar\n",
        "exon_regions = []\n",
        "in_exon = False\n",
        "start = 0\n",
        "\n",
        "print(\"Identifying high-coverage regions (potential exons)...\")\n",
        "for i in tqdm(range(ref_length), desc=\"Scanning coverage array\"):\n",
        "    if coverage[i] >= threshold:\n",
        "        if not in_exon:\n",
        "            start = i\n",
        "            in_exon = True\n",
        "    else:\n",
        "        if in_exon:\n",
        "            exon_regions.append((start, i - 1))\n",
        "            in_exon = False\n",
        "\n",
        "# Handle case where exon extends to the end\n",
        "if in_exon:\n",
        "    exon_regions.append((start, ref_length - 1))\n",
        "\n",
        "print(f\"Identified {len(exon_regions)} high-coverage regions (potential exons).\")"
      ],
      "metadata": {
        "id": "n3iiZJWCDo5n"
      },
      "execution_count": null,
      "outputs": []
    },
    {
      "cell_type": "code",
      "source": [
        "# Save high-coverage regions to a file\n",
        "with open(\"predicted_exons_updated.txt\", \"w\") as exon_file:\n",
        "    exon_file.write(\"Start\\tEnd\\n\")\n",
        "    for start, end in exon_regions:\n",
        "        exon_file.write(f\"{start}\\t{end}\\n\")\n",
        "\n",
        "print(\"High-coverage regions saved to 'predicted_exons_updated.txt'.\")\n",
        "\n",
        "# Visualization\n",
        "import matplotlib.pyplot as plt\n",
        "\n",
        "plt.figure(figsize=(12, 6))\n",
        "plt.plot(coverage, color='blue', label='Coverage')\n",
        "for start, end in exon_regions:\n",
        "    plt.axvspan(start, end, color='green', alpha=0.3, label='Predicted Exon' if start == exon_regions[0][0] else \"\")\n",
        "\n",
        "plt.xlabel('Position on X Chromosome')\n",
        "plt.ylabel('Coverage')\n",
        "plt.title('High-Coverage Regions (Exon Prediction)')\n",
        "plt.legend()\n",
        "plt.show()\n"
      ],
      "metadata": {
        "id": "vNjEPXvEDqvJ"
      },
      "execution_count": null,
      "outputs": []
    }
  ],
  "metadata": {
    "colab": {
      "provenance": []
    },
    "kernelspec": {
      "display_name": "Python 3",
      "name": "python3"
    },
    "language_info": {
      "name": "python"
    }
  },
  "nbformat": 4,
  "nbformat_minor": 0
}